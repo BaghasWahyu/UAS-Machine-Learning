{
  "nbformat": 4,
  "nbformat_minor": 0,
  "metadata": {
    "orig_nbformat": 2,
    "colab": {
      "name": "ML.ipynb",
      "provenance": [],
      "toc_visible": true,
      "include_colab_link": true
    },
    "language_info": {
      "name": "python"
    },
    "kernelspec": {
      "name": "python3",
      "display_name": "Python 3"
    }
  },
  "cells": [
    {
      "cell_type": "markdown",
      "metadata": {
        "id": "view-in-github",
        "colab_type": "text"
      },
      "source": [
        "<a href=\"https://colab.research.google.com/github/BaghasWahyu/UAS-Machine-Learning/blob/main/ML.ipynb\" target=\"_parent\"><img src=\"https://colab.research.google.com/assets/colab-badge.svg\" alt=\"Open In Colab\"/></a>"
      ]
    },
    {
      "cell_type": "code",
      "metadata": {
        "id": "vzBhqEuayCTx",
        "outputId": "bdb59229-1fe6-4e58-9b91-f4c09604b18a",
        "colab": {
          "base_uri": "https://localhost:8080/"
        }
      },
      "source": [
        "!git clone https://github.com/BaghasWahyu/UAS-Machine-Learning.git"
      ],
      "execution_count": 1,
      "outputs": [
        {
          "output_type": "stream",
          "text": [
            "fatal: destination path 'UAS-Machine-Learning' already exists and is not an empty directory.\n"
          ],
          "name": "stdout"
        }
      ]
    },
    {
      "cell_type": "code",
      "metadata": {
        "id": "eAGY0A-qyCTz",
        "outputId": "eb5df4dc-e756-4bbc-d09a-4673edbf27b0",
        "colab": {
          "base_uri": "https://localhost:8080/"
        }
      },
      "source": [
        "!pip install h2o"
      ],
      "execution_count": 2,
      "outputs": [
        {
          "output_type": "stream",
          "text": [
            "Requirement already satisfied: h2o in /usr/local/lib/python3.7/dist-packages (3.32.1.3)\n",
            "Requirement already satisfied: colorama>=0.3.8 in /usr/local/lib/python3.7/dist-packages (from h2o) (0.4.4)\n",
            "Requirement already satisfied: requests in /usr/local/lib/python3.7/dist-packages (from h2o) (2.23.0)\n",
            "Requirement already satisfied: future in /usr/local/lib/python3.7/dist-packages (from h2o) (0.16.0)\n",
            "Requirement already satisfied: tabulate in /usr/local/lib/python3.7/dist-packages (from h2o) (0.8.9)\n",
            "Requirement already satisfied: chardet<4,>=3.0.2 in /usr/local/lib/python3.7/dist-packages (from requests->h2o) (3.0.4)\n",
            "Requirement already satisfied: urllib3!=1.25.0,!=1.25.1,<1.26,>=1.21.1 in /usr/local/lib/python3.7/dist-packages (from requests->h2o) (1.24.3)\n",
            "Requirement already satisfied: certifi>=2017.4.17 in /usr/local/lib/python3.7/dist-packages (from requests->h2o) (2020.12.5)\n",
            "Requirement already satisfied: idna<3,>=2.5 in /usr/local/lib/python3.7/dist-packages (from requests->h2o) (2.10)\n"
          ],
          "name": "stdout"
        }
      ]
    },
    {
      "cell_type": "code",
      "metadata": {
        "id": "5Yzue0BWyCT1",
        "outputId": "ca051681-903e-461f-f299-49a56fb8e808",
        "colab": {
          "base_uri": "https://localhost:8080/",
          "height": 545
        }
      },
      "source": [
        "import h2o\n",
        "from h2o.automl import H2OAutoML\n",
        "h2o.init()"
      ],
      "execution_count": 3,
      "outputs": [
        {
          "output_type": "stream",
          "text": [
            "Checking whether there is an H2O instance running at http://localhost:54321 ..... not found.\n",
            "Attempting to start a local H2O server...\n",
            "  Java Version: openjdk version \"11.0.11\" 2021-04-20; OpenJDK Runtime Environment (build 11.0.11+9-Ubuntu-0ubuntu2.18.04); OpenJDK 64-Bit Server VM (build 11.0.11+9-Ubuntu-0ubuntu2.18.04, mixed mode, sharing)\n",
            "  Starting server from /usr/local/lib/python3.7/dist-packages/h2o/backend/bin/h2o.jar\n",
            "  Ice root: /tmp/tmpu6kihkr9\n",
            "  JVM stdout: /tmp/tmpu6kihkr9/h2o_unknownUser_started_from_python.out\n",
            "  JVM stderr: /tmp/tmpu6kihkr9/h2o_unknownUser_started_from_python.err\n",
            "  Server is running at http://127.0.0.1:54321\n",
            "Connecting to H2O server at http://127.0.0.1:54321 ... successful.\n"
          ],
          "name": "stdout"
        },
        {
          "output_type": "display_data",
          "data": {
            "text/html": [
              "<div style=\"overflow:auto\"><table style=\"width:50%\"><tr><td>H2O_cluster_uptime:</td>\n",
              "<td>04 secs</td></tr>\n",
              "<tr><td>H2O_cluster_timezone:</td>\n",
              "<td>Etc/UTC</td></tr>\n",
              "<tr><td>H2O_data_parsing_timezone:</td>\n",
              "<td>UTC</td></tr>\n",
              "<tr><td>H2O_cluster_version:</td>\n",
              "<td>3.32.1.3</td></tr>\n",
              "<tr><td>H2O_cluster_version_age:</td>\n",
              "<td>11 days </td></tr>\n",
              "<tr><td>H2O_cluster_name:</td>\n",
              "<td>H2O_from_python_unknownUser_lkgz42</td></tr>\n",
              "<tr><td>H2O_cluster_total_nodes:</td>\n",
              "<td>1</td></tr>\n",
              "<tr><td>H2O_cluster_free_memory:</td>\n",
              "<td>3.174 Gb</td></tr>\n",
              "<tr><td>H2O_cluster_total_cores:</td>\n",
              "<td>2</td></tr>\n",
              "<tr><td>H2O_cluster_allowed_cores:</td>\n",
              "<td>2</td></tr>\n",
              "<tr><td>H2O_cluster_status:</td>\n",
              "<td>accepting new members, healthy</td></tr>\n",
              "<tr><td>H2O_connection_url:</td>\n",
              "<td>http://127.0.0.1:54321</td></tr>\n",
              "<tr><td>H2O_connection_proxy:</td>\n",
              "<td>{\"http\": null, \"https\": null}</td></tr>\n",
              "<tr><td>H2O_internal_security:</td>\n",
              "<td>False</td></tr>\n",
              "<tr><td>H2O_API_Extensions:</td>\n",
              "<td>Amazon S3, XGBoost, Algos, AutoML, Core V3, TargetEncoder, Core V4</td></tr>\n",
              "<tr><td>Python_version:</td>\n",
              "<td>3.7.10 final</td></tr></table></div>"
            ],
            "text/plain": [
              "--------------------------  ------------------------------------------------------------------\n",
              "H2O_cluster_uptime:         04 secs\n",
              "H2O_cluster_timezone:       Etc/UTC\n",
              "H2O_data_parsing_timezone:  UTC\n",
              "H2O_cluster_version:        3.32.1.3\n",
              "H2O_cluster_version_age:    11 days\n",
              "H2O_cluster_name:           H2O_from_python_unknownUser_lkgz42\n",
              "H2O_cluster_total_nodes:    1\n",
              "H2O_cluster_free_memory:    3.174 Gb\n",
              "H2O_cluster_total_cores:    2\n",
              "H2O_cluster_allowed_cores:  2\n",
              "H2O_cluster_status:         accepting new members, healthy\n",
              "H2O_connection_url:         http://127.0.0.1:54321\n",
              "H2O_connection_proxy:       {\"http\": null, \"https\": null}\n",
              "H2O_internal_security:      False\n",
              "H2O_API_Extensions:         Amazon S3, XGBoost, Algos, AutoML, Core V3, TargetEncoder, Core V4\n",
              "Python_version:             3.7.10 final\n",
              "--------------------------  ------------------------------------------------------------------"
            ]
          },
          "metadata": {
            "tags": []
          }
        }
      ]
    },
    {
      "cell_type": "code",
      "metadata": {
        "id": "uADg6_gQyCT3",
        "outputId": "284216df-5d99-43e3-ba14-aa2885f75207",
        "colab": {
          "base_uri": "https://localhost:8080/",
          "height": 162
        }
      },
      "source": [
        "diabetes_data = h2o.import_file(\"/content/UAS-Machine-Learning/diabetes.csv\")\n",
        "diabetes_data.head(5)"
      ],
      "execution_count": 4,
      "outputs": [
        {
          "output_type": "stream",
          "text": [
            "Parse progress: |█████████████████████████████████████████████████████████| 100%\n"
          ],
          "name": "stdout"
        },
        {
          "output_type": "display_data",
          "data": {
            "text/html": [
              "<table>\n",
              "<thead>\n",
              "<tr><th style=\"text-align: right;\">  Pregnancies</th><th style=\"text-align: right;\">  Glucose</th><th style=\"text-align: right;\">  BloodPressure</th><th style=\"text-align: right;\">  SkinThickness</th><th style=\"text-align: right;\">  Insulin</th><th style=\"text-align: right;\">  BMI</th><th style=\"text-align: right;\">  DiabetesPedigreeFunction</th><th style=\"text-align: right;\">  Age</th><th style=\"text-align: right;\">  Outcome</th></tr>\n",
              "</thead>\n",
              "<tbody>\n",
              "<tr><td style=\"text-align: right;\">            6</td><td style=\"text-align: right;\">      148</td><td style=\"text-align: right;\">             72</td><td style=\"text-align: right;\">             35</td><td style=\"text-align: right;\">        0</td><td style=\"text-align: right;\"> 33.6</td><td style=\"text-align: right;\">                     0.627</td><td style=\"text-align: right;\">   50</td><td style=\"text-align: right;\">        1</td></tr>\n",
              "<tr><td style=\"text-align: right;\">            1</td><td style=\"text-align: right;\">       85</td><td style=\"text-align: right;\">             66</td><td style=\"text-align: right;\">             29</td><td style=\"text-align: right;\">        0</td><td style=\"text-align: right;\"> 26.6</td><td style=\"text-align: right;\">                     0.351</td><td style=\"text-align: right;\">   31</td><td style=\"text-align: right;\">        0</td></tr>\n",
              "<tr><td style=\"text-align: right;\">            8</td><td style=\"text-align: right;\">      183</td><td style=\"text-align: right;\">             64</td><td style=\"text-align: right;\">              0</td><td style=\"text-align: right;\">        0</td><td style=\"text-align: right;\"> 23.3</td><td style=\"text-align: right;\">                     0.672</td><td style=\"text-align: right;\">   32</td><td style=\"text-align: right;\">        1</td></tr>\n",
              "<tr><td style=\"text-align: right;\">            1</td><td style=\"text-align: right;\">       89</td><td style=\"text-align: right;\">             66</td><td style=\"text-align: right;\">             23</td><td style=\"text-align: right;\">       94</td><td style=\"text-align: right;\"> 28.1</td><td style=\"text-align: right;\">                     0.167</td><td style=\"text-align: right;\">   21</td><td style=\"text-align: right;\">        0</td></tr>\n",
              "<tr><td style=\"text-align: right;\">            0</td><td style=\"text-align: right;\">      137</td><td style=\"text-align: right;\">             40</td><td style=\"text-align: right;\">             35</td><td style=\"text-align: right;\">      168</td><td style=\"text-align: right;\"> 43.1</td><td style=\"text-align: right;\">                     2.288</td><td style=\"text-align: right;\">   33</td><td style=\"text-align: right;\">        1</td></tr>\n",
              "</tbody>\n",
              "</table>"
            ]
          },
          "metadata": {
            "tags": []
          }
        },
        {
          "output_type": "execute_result",
          "data": {
            "text/plain": [
              ""
            ]
          },
          "metadata": {
            "tags": []
          },
          "execution_count": 4
        }
      ]
    },
    {
      "cell_type": "code",
      "metadata": {
        "id": "Tmcc12QByCT4",
        "outputId": "1e721752-9b3b-4fac-a5ff-5f4521a2bcf0",
        "colab": {
          "base_uri": "https://localhost:8080/",
          "height": 485
        }
      },
      "source": [
        "diabetes_data.describe()"
      ],
      "execution_count": 5,
      "outputs": [
        {
          "output_type": "stream",
          "text": [
            "Rows:768\n",
            "Cols:9\n",
            "\n",
            "\n"
          ],
          "name": "stdout"
        },
        {
          "output_type": "display_data",
          "data": {
            "text/html": [
              "<table>\n",
              "<thead>\n",
              "<tr><th>       </th><th>Pregnancies      </th><th>Glucose           </th><th>BloodPressure     </th><th>SkinThickness     </th><th>Insulin           </th><th>BMI              </th><th>DiabetesPedigreeFunction  </th><th>Age               </th><th>Outcome            </th></tr>\n",
              "</thead>\n",
              "<tbody>\n",
              "<tr><td>type   </td><td>int              </td><td>int               </td><td>int               </td><td>int               </td><td>int               </td><td>real             </td><td>real                      </td><td>int               </td><td>int                </td></tr>\n",
              "<tr><td>mins   </td><td>0.0              </td><td>0.0               </td><td>0.0               </td><td>0.0               </td><td>0.0               </td><td>0.0              </td><td>0.078                     </td><td>21.0              </td><td>0.0                </td></tr>\n",
              "<tr><td>mean   </td><td>3.845052083333336</td><td>120.89453125      </td><td>69.10546874999994 </td><td>20.536458333333357</td><td>79.79947916666666 </td><td>31.99257812500003</td><td>0.4718763020833334        </td><td>33.240885416666615</td><td>0.3489583333333333 </td></tr>\n",
              "<tr><td>maxs   </td><td>17.0             </td><td>199.0             </td><td>122.0             </td><td>99.0              </td><td>846.0             </td><td>67.1             </td><td>2.42                      </td><td>81.0              </td><td>1.0                </td></tr>\n",
              "<tr><td>sigma  </td><td>3.36957806269887 </td><td>31.972618195136224</td><td>19.355807170644777</td><td>15.952217567727642</td><td>115.24400235133803</td><td>7.884160320375441</td><td>0.331328595012775         </td><td>11.760231540678689</td><td>0.47695137724279896</td></tr>\n",
              "<tr><td>zeros  </td><td>111              </td><td>5                 </td><td>35                </td><td>227               </td><td>374               </td><td>11               </td><td>0                         </td><td>0                 </td><td>500                </td></tr>\n",
              "<tr><td>missing</td><td>0                </td><td>0                 </td><td>0                 </td><td>0                 </td><td>0                 </td><td>0                </td><td>0                         </td><td>0                 </td><td>0                  </td></tr>\n",
              "<tr><td>0      </td><td>6.0              </td><td>148.0             </td><td>72.0              </td><td>35.0              </td><td>0.0               </td><td>33.6             </td><td>0.627                     </td><td>50.0              </td><td>1.0                </td></tr>\n",
              "<tr><td>1      </td><td>1.0              </td><td>85.0              </td><td>66.0              </td><td>29.0              </td><td>0.0               </td><td>26.6             </td><td>0.351                     </td><td>31.0              </td><td>0.0                </td></tr>\n",
              "<tr><td>2      </td><td>8.0              </td><td>183.0             </td><td>64.0              </td><td>0.0               </td><td>0.0               </td><td>23.3             </td><td>0.672                     </td><td>32.0              </td><td>1.0                </td></tr>\n",
              "<tr><td>3      </td><td>1.0              </td><td>89.0              </td><td>66.0              </td><td>23.0              </td><td>94.0              </td><td>28.1             </td><td>0.167                     </td><td>21.0              </td><td>0.0                </td></tr>\n",
              "<tr><td>4      </td><td>0.0              </td><td>137.0             </td><td>40.0              </td><td>35.0              </td><td>168.0             </td><td>43.1             </td><td>2.288                     </td><td>33.0              </td><td>1.0                </td></tr>\n",
              "<tr><td>5      </td><td>5.0              </td><td>116.0             </td><td>74.0              </td><td>0.0               </td><td>0.0               </td><td>25.6             </td><td>0.201                     </td><td>30.0              </td><td>0.0                </td></tr>\n",
              "<tr><td>6      </td><td>3.0              </td><td>78.0              </td><td>50.0              </td><td>32.0              </td><td>88.0              </td><td>31.0             </td><td>0.248                     </td><td>26.0              </td><td>1.0                </td></tr>\n",
              "<tr><td>7      </td><td>10.0             </td><td>115.0             </td><td>0.0               </td><td>0.0               </td><td>0.0               </td><td>35.3             </td><td>0.134                     </td><td>29.0              </td><td>0.0                </td></tr>\n",
              "<tr><td>8      </td><td>2.0              </td><td>197.0             </td><td>70.0              </td><td>45.0              </td><td>543.0             </td><td>30.5             </td><td>0.158                     </td><td>53.0              </td><td>1.0                </td></tr>\n",
              "<tr><td>9      </td><td>8.0              </td><td>125.0             </td><td>96.0              </td><td>0.0               </td><td>0.0               </td><td>0.0              </td><td>0.232                     </td><td>54.0              </td><td>1.0                </td></tr>\n",
              "</tbody>\n",
              "</table>"
            ]
          },
          "metadata": {
            "tags": []
          }
        }
      ]
    },
    {
      "cell_type": "code",
      "metadata": {
        "id": "dXNWuR2qyCT5"
      },
      "source": [
        "diabetes_data['Outcome'] = diabetes_data['Outcome'].asfactor()"
      ],
      "execution_count": 6,
      "outputs": []
    },
    {
      "cell_type": "code",
      "metadata": {
        "id": "nq2aXOfJyCT5"
      },
      "source": [
        "diabetes_split = diabetes_data.split_frame(ratios = [0.8])\n",
        "db_train = diabetes_split[0]\n",
        "db_test = diabetes_split[1]"
      ],
      "execution_count": 7,
      "outputs": []
    },
    {
      "cell_type": "code",
      "metadata": {
        "id": "uXYZklf9yCT7"
      },
      "source": [
        "x=['Pregnancies','Glucose', 'BloodPressure','SkinThickness','Insulin' ,'BMI','DiabetesPedigreeFunction','Age']\n",
        "y='Outcome'"
      ],
      "execution_count": 8,
      "outputs": []
    },
    {
      "cell_type": "code",
      "metadata": {
        "id": "fsk310QiyCT8"
      },
      "source": [
        "automl = H2OAutoML(max_models = 30, max_runtime_secs=300, seed = 1)"
      ],
      "execution_count": 9,
      "outputs": []
    },
    {
      "cell_type": "code",
      "metadata": {
        "id": "CWLrZjp_yCT-",
        "outputId": "62f3c5c0-9797-42e0-8cfc-70f61888f268",
        "colab": {
          "base_uri": "https://localhost:8080/",
          "height": 729
        }
      },
      "source": [
        "automl.train(x = x, y = y, training_frame = db_train)\n",
        "leader = automl.leaderboard\n",
        "leader.head()\n",
        "leader.head(rows=leader.nrows)"
      ],
      "execution_count": 10,
      "outputs": [
        {
          "output_type": "stream",
          "text": [
            "AutoML progress: |████████████████████████████████████████████████████████| 100%\n"
          ],
          "name": "stdout"
        },
        {
          "output_type": "display_data",
          "data": {
            "text/html": [
              "<table>\n",
              "<thead>\n",
              "<tr><th>model_id                                           </th><th style=\"text-align: right;\">     auc</th><th style=\"text-align: right;\">  logloss</th><th style=\"text-align: right;\">   aucpr</th><th style=\"text-align: right;\">  mean_per_class_error</th><th style=\"text-align: right;\">    rmse</th><th style=\"text-align: right;\">     mse</th></tr>\n",
              "</thead>\n",
              "<tbody>\n",
              "<tr><td>GLM_1_AutoML_20210531_050734                       </td><td style=\"text-align: right;\">0.819892</td><td style=\"text-align: right;\"> 0.496239</td><td style=\"text-align: right;\">0.704416</td><td style=\"text-align: right;\">              0.257336</td><td style=\"text-align: right;\">0.402344</td><td style=\"text-align: right;\">0.161881</td></tr>\n",
              "<tr><td>GBM_5_AutoML_20210531_050734                       </td><td style=\"text-align: right;\">0.818891</td><td style=\"text-align: right;\"> 0.492937</td><td style=\"text-align: right;\">0.690133</td><td style=\"text-align: right;\">              0.254343</td><td style=\"text-align: right;\">0.405221</td><td style=\"text-align: right;\">0.164204</td></tr>\n",
              "<tr><td>StackedEnsemble_AllModels_AutoML_20210531_050734   </td><td style=\"text-align: right;\">0.818502</td><td style=\"text-align: right;\"> 0.496059</td><td style=\"text-align: right;\">0.691066</td><td style=\"text-align: right;\">              0.236386</td><td style=\"text-align: right;\">0.404398</td><td style=\"text-align: right;\">0.163538</td></tr>\n",
              "<tr><td>StackedEnsemble_BestOfFamily_AutoML_20210531_050734</td><td style=\"text-align: right;\">0.81785 </td><td style=\"text-align: right;\"> 0.494496</td><td style=\"text-align: right;\">0.693941</td><td style=\"text-align: right;\">              0.244419</td><td style=\"text-align: right;\">0.403727</td><td style=\"text-align: right;\">0.162996</td></tr>\n",
              "<tr><td>GBM_grid__1_AutoML_20210531_050734_model_4         </td><td style=\"text-align: right;\">0.812258</td><td style=\"text-align: right;\"> 0.500494</td><td style=\"text-align: right;\">0.693275</td><td style=\"text-align: right;\">              0.25369 </td><td style=\"text-align: right;\">0.410201</td><td style=\"text-align: right;\">0.168265</td></tr>\n",
              "<tr><td>GBM_grid__1_AutoML_20210531_050734_model_2         </td><td style=\"text-align: right;\">0.811375</td><td style=\"text-align: right;\"> 0.500932</td><td style=\"text-align: right;\">0.674053</td><td style=\"text-align: right;\">              0.265774</td><td style=\"text-align: right;\">0.4097  </td><td style=\"text-align: right;\">0.167854</td></tr>\n",
              "<tr><td>GBM_grid__1_AutoML_20210531_050734_model_1         </td><td style=\"text-align: right;\">0.809721</td><td style=\"text-align: right;\"> 0.50998 </td><td style=\"text-align: right;\">0.676559</td><td style=\"text-align: right;\">              0.253915</td><td style=\"text-align: right;\">0.412125</td><td style=\"text-align: right;\">0.169847</td></tr>\n",
              "<tr><td>XRT_1_AutoML_20210531_050734                       </td><td style=\"text-align: right;\">0.807319</td><td style=\"text-align: right;\"> 0.558073</td><td style=\"text-align: right;\">0.663808</td><td style=\"text-align: right;\">              0.270792</td><td style=\"text-align: right;\">0.41074 </td><td style=\"text-align: right;\">0.168708</td></tr>\n",
              "<tr><td>XGBoost_grid__1_AutoML_20210531_050734_model_6     </td><td style=\"text-align: right;\">0.804962</td><td style=\"text-align: right;\"> 0.512227</td><td style=\"text-align: right;\">0.670162</td><td style=\"text-align: right;\">              0.264401</td><td style=\"text-align: right;\">0.412295</td><td style=\"text-align: right;\">0.169987</td></tr>\n",
              "<tr><td>GBM_3_AutoML_20210531_050734                       </td><td style=\"text-align: right;\">0.803679</td><td style=\"text-align: right;\"> 0.520238</td><td style=\"text-align: right;\">0.65508 </td><td style=\"text-align: right;\">              0.262534</td><td style=\"text-align: right;\">0.416097</td><td style=\"text-align: right;\">0.173137</td></tr>\n",
              "<tr><td>XGBoost_grid__1_AutoML_20210531_050734_model_9     </td><td style=\"text-align: right;\">0.802869</td><td style=\"text-align: right;\"> 0.515049</td><td style=\"text-align: right;\">0.645538</td><td style=\"text-align: right;\">              0.276283</td><td style=\"text-align: right;\">0.415241</td><td style=\"text-align: right;\">0.172425</td></tr>\n",
              "<tr><td>GBM_2_AutoML_20210531_050734                       </td><td style=\"text-align: right;\">0.80265 </td><td style=\"text-align: right;\"> 0.520486</td><td style=\"text-align: right;\">0.649053</td><td style=\"text-align: right;\">              0.265212</td><td style=\"text-align: right;\">0.416852</td><td style=\"text-align: right;\">0.173766</td></tr>\n",
              "<tr><td>GBM_1_AutoML_20210531_050734                       </td><td style=\"text-align: right;\">0.802593</td><td style=\"text-align: right;\"> 0.532529</td><td style=\"text-align: right;\">0.652679</td><td style=\"text-align: right;\">              0.250788</td><td style=\"text-align: right;\">0.420837</td><td style=\"text-align: right;\">0.177104</td></tr>\n",
              "<tr><td>GBM_4_AutoML_20210531_050734                       </td><td style=\"text-align: right;\">0.802532</td><td style=\"text-align: right;\"> 0.518098</td><td style=\"text-align: right;\">0.678284</td><td style=\"text-align: right;\">              0.271782</td><td style=\"text-align: right;\">0.416641</td><td style=\"text-align: right;\">0.17359 </td></tr>\n",
              "<tr><td>XGBoost_2_AutoML_20210531_050734                   </td><td style=\"text-align: right;\">0.801744</td><td style=\"text-align: right;\"> 0.518152</td><td style=\"text-align: right;\">0.645947</td><td style=\"text-align: right;\">              0.262601</td><td style=\"text-align: right;\">0.41663 </td><td style=\"text-align: right;\">0.173581</td></tr>\n",
              "<tr><td>DeepLearning_grid__1_AutoML_20210531_050734_model_2</td><td style=\"text-align: right;\">0.800495</td><td style=\"text-align: right;\"> 0.558513</td><td style=\"text-align: right;\">0.656756</td><td style=\"text-align: right;\">              0.260531</td><td style=\"text-align: right;\">0.421284</td><td style=\"text-align: right;\">0.17748 </td></tr>\n",
              "<tr><td>DRF_1_AutoML_20210531_050734                       </td><td style=\"text-align: right;\">0.799466</td><td style=\"text-align: right;\"> 0.51799 </td><td style=\"text-align: right;\">0.640273</td><td style=\"text-align: right;\">              0.260779</td><td style=\"text-align: right;\">0.41519 </td><td style=\"text-align: right;\">0.172383</td></tr>\n",
              "<tr><td>XGBoost_grid__1_AutoML_20210531_050734_model_7     </td><td style=\"text-align: right;\">0.798633</td><td style=\"text-align: right;\"> 0.524083</td><td style=\"text-align: right;\">0.667258</td><td style=\"text-align: right;\">              0.271512</td><td style=\"text-align: right;\">0.418531</td><td style=\"text-align: right;\">0.175168</td></tr>\n",
              "<tr><td>XGBoost_grid__1_AutoML_20210531_050734_model_5     </td><td style=\"text-align: right;\">0.798172</td><td style=\"text-align: right;\"> 0.519801</td><td style=\"text-align: right;\">0.664318</td><td style=\"text-align: right;\">              0.280446</td><td style=\"text-align: right;\">0.417951</td><td style=\"text-align: right;\">0.174683</td></tr>\n",
              "<tr><td>GBM_grid__1_AutoML_20210531_050734_model_3         </td><td style=\"text-align: right;\">0.79771 </td><td style=\"text-align: right;\"> 0.558981</td><td style=\"text-align: right;\">0.627662</td><td style=\"text-align: right;\">              0.260666</td><td style=\"text-align: right;\">0.428395</td><td style=\"text-align: right;\">0.183522</td></tr>\n",
              "<tr><td>DeepLearning_1_AutoML_20210531_050734              </td><td style=\"text-align: right;\">0.797626</td><td style=\"text-align: right;\"> 0.534014</td><td style=\"text-align: right;\">0.645792</td><td style=\"text-align: right;\">              0.260869</td><td style=\"text-align: right;\">0.419802</td><td style=\"text-align: right;\">0.176234</td></tr>\n",
              "<tr><td>GBM_grid__1_AutoML_20210531_050734_model_5         </td><td style=\"text-align: right;\">0.793941</td><td style=\"text-align: right;\"> 0.522508</td><td style=\"text-align: right;\">0.639466</td><td style=\"text-align: right;\">              0.261386</td><td style=\"text-align: right;\">0.419231</td><td style=\"text-align: right;\">0.175755</td></tr>\n",
              "<tr><td>XGBoost_grid__1_AutoML_20210531_050734_model_4     </td><td style=\"text-align: right;\">0.792203</td><td style=\"text-align: right;\"> 0.582009</td><td style=\"text-align: right;\">0.621116</td><td style=\"text-align: right;\">              0.258843</td><td style=\"text-align: right;\">0.433018</td><td style=\"text-align: right;\">0.187505</td></tr>\n",
              "<tr><td>XGBoost_grid__1_AutoML_20210531_050734_model_2     </td><td style=\"text-align: right;\">0.791179</td><td style=\"text-align: right;\"> 0.53586 </td><td style=\"text-align: right;\">0.63036 </td><td style=\"text-align: right;\">              0.269802</td><td style=\"text-align: right;\">0.422619</td><td style=\"text-align: right;\">0.178607</td></tr>\n",
              "<tr><td>DeepLearning_grid__3_AutoML_20210531_050734_model_1</td><td style=\"text-align: right;\">0.791005</td><td style=\"text-align: right;\"> 0.562076</td><td style=\"text-align: right;\">0.65161 </td><td style=\"text-align: right;\">              0.260936</td><td style=\"text-align: right;\">0.42123 </td><td style=\"text-align: right;\">0.177434</td></tr>\n",
              "<tr><td>XGBoost_3_AutoML_20210531_050734                   </td><td style=\"text-align: right;\">0.790977</td><td style=\"text-align: right;\"> 0.567728</td><td style=\"text-align: right;\">0.610647</td><td style=\"text-align: right;\">              0.27059 </td><td style=\"text-align: right;\">0.430417</td><td style=\"text-align: right;\">0.185259</td></tr>\n",
              "<tr><td>XGBoost_1_AutoML_20210531_050734                   </td><td style=\"text-align: right;\">0.788214</td><td style=\"text-align: right;\"> 0.556568</td><td style=\"text-align: right;\">0.64243 </td><td style=\"text-align: right;\">              0.274302</td><td style=\"text-align: right;\">0.432321</td><td style=\"text-align: right;\">0.186902</td></tr>\n",
              "<tr><td>XGBoost_grid__1_AutoML_20210531_050734_model_8     </td><td style=\"text-align: right;\">0.78345 </td><td style=\"text-align: right;\"> 0.567365</td><td style=\"text-align: right;\">0.605546</td><td style=\"text-align: right;\">              0.266067</td><td style=\"text-align: right;\">0.430916</td><td style=\"text-align: right;\">0.185689</td></tr>\n",
              "<tr><td>XGBoost_grid__1_AutoML_20210531_050734_model_3     </td><td style=\"text-align: right;\">0.78278 </td><td style=\"text-align: right;\"> 0.564498</td><td style=\"text-align: right;\">0.60422 </td><td style=\"text-align: right;\">              0.264401</td><td style=\"text-align: right;\">0.433825</td><td style=\"text-align: right;\">0.188204</td></tr>\n",
              "<tr><td>XGBoost_grid__1_AutoML_20210531_050734_model_1     </td><td style=\"text-align: right;\">0.780699</td><td style=\"text-align: right;\"> 0.630566</td><td style=\"text-align: right;\">0.627647</td><td style=\"text-align: right;\">              0.262151</td><td style=\"text-align: right;\">0.43882 </td><td style=\"text-align: right;\">0.192563</td></tr>\n",
              "<tr><td>DeepLearning_grid__2_AutoML_20210531_050734_model_1</td><td style=\"text-align: right;\">0.766899</td><td style=\"text-align: right;\"> 0.663003</td><td style=\"text-align: right;\">0.626471</td><td style=\"text-align: right;\">              0.293024</td><td style=\"text-align: right;\">0.436635</td><td style=\"text-align: right;\">0.19065 </td></tr>\n",
              "<tr><td>DeepLearning_grid__1_AutoML_20210531_050734_model_1</td><td style=\"text-align: right;\">0.764936</td><td style=\"text-align: right;\"> 1.18559 </td><td style=\"text-align: right;\">0.620795</td><td style=\"text-align: right;\">              0.279973</td><td style=\"text-align: right;\">0.463947</td><td style=\"text-align: right;\">0.215247</td></tr>\n",
              "</tbody>\n",
              "</table>"
            ]
          },
          "metadata": {
            "tags": []
          }
        },
        {
          "output_type": "execute_result",
          "data": {
            "text/plain": [
              ""
            ]
          },
          "metadata": {
            "tags": []
          },
          "execution_count": 10
        }
      ]
    },
    {
      "cell_type": "code",
      "metadata": {
        "id": "F9RVv4rbyCUA",
        "outputId": "6e45f2f4-19ce-4732-9712-ace206b84b11",
        "colab": {
          "base_uri": "https://localhost:8080/",
          "height": 35
        }
      },
      "source": [
        "h2o.save_model(automl.leader, path = \"/content/UAS-Machine-Learning/\")"
      ],
      "execution_count": 11,
      "outputs": [
        {
          "output_type": "execute_result",
          "data": {
            "application/vnd.google.colaboratory.intrinsic+json": {
              "type": "string"
            },
            "text/plain": [
              "'/content/UAS-Machine-Learning/GLM_1_AutoML_20210531_050734'"
            ]
          },
          "metadata": {
            "tags": []
          },
          "execution_count": 11
        }
      ]
    },
    {
      "cell_type": "code",
      "metadata": {
        "id": "tBOP39YYyCUB"
      },
      "source": [
        "h2o.cluster().shutdown()"
      ],
      "execution_count": 13,
      "outputs": []
    }
  ]
}