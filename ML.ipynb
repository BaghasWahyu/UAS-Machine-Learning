{
  "nbformat": 4,
  "nbformat_minor": 0,
  "metadata": {
    "orig_nbformat": 2,
    "colab": {
      "name": "ML.ipynb",
      "provenance": [],
      "toc_visible": true,
      "include_colab_link": true
    },
    "language_info": {
      "name": "python"
    },
    "kernelspec": {
      "name": "python3",
      "display_name": "Python 3"
    }
  },
  "cells": [
    {
      "cell_type": "markdown",
      "metadata": {
        "id": "view-in-github",
        "colab_type": "text"
      },
      "source": [
        "<a href=\"https://colab.research.google.com/github/BaghasWahyu/UAS-Machine-Learning/blob/main/ML.ipynb\" target=\"_parent\"><img src=\"https://colab.research.google.com/assets/colab-badge.svg\" alt=\"Open In Colab\"/></a>"
      ]
    },
    {
      "cell_type": "code",
      "metadata": {
        "colab": {
          "base_uri": "https://localhost:8080/"
        },
        "id": "vzBhqEuayCTx",
        "outputId": "e2144224-99d6-4a6c-d723-99a8a6c684f2"
      },
      "source": [
        "!git clone https://github.com/BaghasWahyu/UAS-Machine-Learning.git"
      ],
      "execution_count": 1,
      "outputs": [
        {
          "output_type": "stream",
          "text": [
            "Cloning into 'UAS-Machine-Learning'...\n",
            "remote: Enumerating objects: 9, done.\u001b[K\n",
            "remote: Counting objects: 100% (9/9), done.\u001b[K\n",
            "remote: Compressing objects: 100% (7/7), done.\u001b[K\n",
            "remote: Total 9 (delta 1), reused 6 (delta 1), pack-reused 0\u001b[K\n",
            "Unpacking objects: 100% (9/9), done.\n"
          ],
          "name": "stdout"
        }
      ]
    },
    {
      "cell_type": "code",
      "metadata": {
        "colab": {
          "base_uri": "https://localhost:8080/"
        },
        "id": "eAGY0A-qyCTz",
        "outputId": "4739b5f3-748b-4048-c848-c6948f35f2e2"
      },
      "source": [
        "!pip install h2o"
      ],
      "execution_count": 2,
      "outputs": [
        {
          "output_type": "stream",
          "text": [
            "Collecting h2o\n",
            "\u001b[?25l  Downloading https://files.pythonhosted.org/packages/23/c9/f24bbb8e7a57097f12c7bef3d277641eddf5160688e442d0eb1b41bf6a67/h2o-3.32.1.3.tar.gz (164.8MB)\n",
            "\u001b[K     |████████████████████████████████| 164.8MB 53kB/s \n",
            "\u001b[?25hRequirement already satisfied: requests in /usr/local/lib/python3.7/dist-packages (from h2o) (2.23.0)\n",
            "Requirement already satisfied: tabulate in /usr/local/lib/python3.7/dist-packages (from h2o) (0.8.9)\n",
            "Requirement already satisfied: future in /usr/local/lib/python3.7/dist-packages (from h2o) (0.16.0)\n",
            "Collecting colorama>=0.3.8\n",
            "  Downloading https://files.pythonhosted.org/packages/44/98/5b86278fbbf250d239ae0ecb724f8572af1c91f4a11edf4d36a206189440/colorama-0.4.4-py2.py3-none-any.whl\n",
            "Requirement already satisfied: urllib3!=1.25.0,!=1.25.1,<1.26,>=1.21.1 in /usr/local/lib/python3.7/dist-packages (from requests->h2o) (1.24.3)\n",
            "Requirement already satisfied: chardet<4,>=3.0.2 in /usr/local/lib/python3.7/dist-packages (from requests->h2o) (3.0.4)\n",
            "Requirement already satisfied: certifi>=2017.4.17 in /usr/local/lib/python3.7/dist-packages (from requests->h2o) (2020.12.5)\n",
            "Requirement already satisfied: idna<3,>=2.5 in /usr/local/lib/python3.7/dist-packages (from requests->h2o) (2.10)\n",
            "Building wheels for collected packages: h2o\n",
            "  Building wheel for h2o (setup.py) ... \u001b[?25l\u001b[?25hdone\n",
            "  Created wheel for h2o: filename=h2o-3.32.1.3-py2.py3-none-any.whl size=164854343 sha256=278ddd016ebaaf7978c0a2e7d79a639d8232fd75712d63053ddad9fd339c09d7\n",
            "  Stored in directory: /root/.cache/pip/wheels/4f/bb/82/0988682f9abd0b5e95109a4aae6793dd427173b6dc671d9252\n",
            "Successfully built h2o\n",
            "Installing collected packages: colorama, h2o\n",
            "Successfully installed colorama-0.4.4 h2o-3.32.1.3\n"
          ],
          "name": "stdout"
        }
      ]
    },
    {
      "cell_type": "code",
      "metadata": {
        "colab": {
          "base_uri": "https://localhost:8080/",
          "height": 528
        },
        "id": "5Yzue0BWyCT1",
        "outputId": "9490e374-ff2e-4701-8779-ebd8a4e7baa9"
      },
      "source": [
        "import h2o\n",
        "from h2o.automl import H2OAutoML\n",
        "h2o.init()"
      ],
      "execution_count": 3,
      "outputs": [
        {
          "output_type": "stream",
          "text": [
            "Checking whether there is an H2O instance running at http://localhost:54321 ..... not found.\n",
            "Attempting to start a local H2O server...\n",
            "  Java Version: openjdk version \"11.0.11\" 2021-04-20; OpenJDK Runtime Environment (build 11.0.11+9-Ubuntu-0ubuntu2.18.04); OpenJDK 64-Bit Server VM (build 11.0.11+9-Ubuntu-0ubuntu2.18.04, mixed mode, sharing)\n",
            "  Starting server from /usr/local/lib/python3.7/dist-packages/h2o/backend/bin/h2o.jar\n",
            "  Ice root: /tmp/tmptv33t82l\n",
            "  JVM stdout: /tmp/tmptv33t82l/h2o_unknownUser_started_from_python.out\n",
            "  JVM stderr: /tmp/tmptv33t82l/h2o_unknownUser_started_from_python.err\n",
            "  Server is running at http://127.0.0.1:54321\n",
            "Connecting to H2O server at http://127.0.0.1:54321 ... successful.\n"
          ],
          "name": "stdout"
        },
        {
          "output_type": "display_data",
          "data": {
            "text/html": [
              "<div style=\"overflow:auto\"><table style=\"width:50%\"><tr><td>H2O_cluster_uptime:</td>\n",
              "<td>03 secs</td></tr>\n",
              "<tr><td>H2O_cluster_timezone:</td>\n",
              "<td>Etc/UTC</td></tr>\n",
              "<tr><td>H2O_data_parsing_timezone:</td>\n",
              "<td>UTC</td></tr>\n",
              "<tr><td>H2O_cluster_version:</td>\n",
              "<td>3.32.1.3</td></tr>\n",
              "<tr><td>H2O_cluster_version_age:</td>\n",
              "<td>11 days </td></tr>\n",
              "<tr><td>H2O_cluster_name:</td>\n",
              "<td>H2O_from_python_unknownUser_qvj68z</td></tr>\n",
              "<tr><td>H2O_cluster_total_nodes:</td>\n",
              "<td>1</td></tr>\n",
              "<tr><td>H2O_cluster_free_memory:</td>\n",
              "<td>3.174 Gb</td></tr>\n",
              "<tr><td>H2O_cluster_total_cores:</td>\n",
              "<td>2</td></tr>\n",
              "<tr><td>H2O_cluster_allowed_cores:</td>\n",
              "<td>2</td></tr>\n",
              "<tr><td>H2O_cluster_status:</td>\n",
              "<td>accepting new members, healthy</td></tr>\n",
              "<tr><td>H2O_connection_url:</td>\n",
              "<td>http://127.0.0.1:54321</td></tr>\n",
              "<tr><td>H2O_connection_proxy:</td>\n",
              "<td>{\"http\": null, \"https\": null}</td></tr>\n",
              "<tr><td>H2O_internal_security:</td>\n",
              "<td>False</td></tr>\n",
              "<tr><td>H2O_API_Extensions:</td>\n",
              "<td>Amazon S3, XGBoost, Algos, AutoML, Core V3, TargetEncoder, Core V4</td></tr>\n",
              "<tr><td>Python_version:</td>\n",
              "<td>3.7.10 final</td></tr></table></div>"
            ],
            "text/plain": [
              "--------------------------  ------------------------------------------------------------------\n",
              "H2O_cluster_uptime:         03 secs\n",
              "H2O_cluster_timezone:       Etc/UTC\n",
              "H2O_data_parsing_timezone:  UTC\n",
              "H2O_cluster_version:        3.32.1.3\n",
              "H2O_cluster_version_age:    11 days\n",
              "H2O_cluster_name:           H2O_from_python_unknownUser_qvj68z\n",
              "H2O_cluster_total_nodes:    1\n",
              "H2O_cluster_free_memory:    3.174 Gb\n",
              "H2O_cluster_total_cores:    2\n",
              "H2O_cluster_allowed_cores:  2\n",
              "H2O_cluster_status:         accepting new members, healthy\n",
              "H2O_connection_url:         http://127.0.0.1:54321\n",
              "H2O_connection_proxy:       {\"http\": null, \"https\": null}\n",
              "H2O_internal_security:      False\n",
              "H2O_API_Extensions:         Amazon S3, XGBoost, Algos, AutoML, Core V3, TargetEncoder, Core V4\n",
              "Python_version:             3.7.10 final\n",
              "--------------------------  ------------------------------------------------------------------"
            ]
          },
          "metadata": {
            "tags": []
          }
        }
      ]
    },
    {
      "cell_type": "code",
      "metadata": {
        "colab": {
          "base_uri": "https://localhost:8080/",
          "height": 162
        },
        "id": "uADg6_gQyCT3",
        "outputId": "cf6e34be-e152-490a-b0e9-bb92767724f0"
      },
      "source": [
        "diabetes_data = h2o.import_file(\"/content/UAS-Machine-Learning/diabetes.csv\")\n",
        "diabetes_data.head(5)"
      ],
      "execution_count": 4,
      "outputs": [
        {
          "output_type": "stream",
          "text": [
            "Parse progress: |█████████████████████████████████████████████████████████| 100%\n"
          ],
          "name": "stdout"
        },
        {
          "output_type": "display_data",
          "data": {
            "text/html": [
              "<table>\n",
              "<thead>\n",
              "<tr><th style=\"text-align: right;\">  Pregnancies</th><th style=\"text-align: right;\">  Glucose</th><th style=\"text-align: right;\">  BloodPressure</th><th style=\"text-align: right;\">  SkinThickness</th><th style=\"text-align: right;\">  Insulin</th><th style=\"text-align: right;\">  BMI</th><th style=\"text-align: right;\">  DiabetesPedigreeFunction</th><th style=\"text-align: right;\">  Age</th><th style=\"text-align: right;\">  Outcome</th></tr>\n",
              "</thead>\n",
              "<tbody>\n",
              "<tr><td style=\"text-align: right;\">            6</td><td style=\"text-align: right;\">      148</td><td style=\"text-align: right;\">             72</td><td style=\"text-align: right;\">             35</td><td style=\"text-align: right;\">        0</td><td style=\"text-align: right;\"> 33.6</td><td style=\"text-align: right;\">                     0.627</td><td style=\"text-align: right;\">   50</td><td style=\"text-align: right;\">        1</td></tr>\n",
              "<tr><td style=\"text-align: right;\">            1</td><td style=\"text-align: right;\">       85</td><td style=\"text-align: right;\">             66</td><td style=\"text-align: right;\">             29</td><td style=\"text-align: right;\">        0</td><td style=\"text-align: right;\"> 26.6</td><td style=\"text-align: right;\">                     0.351</td><td style=\"text-align: right;\">   31</td><td style=\"text-align: right;\">        0</td></tr>\n",
              "<tr><td style=\"text-align: right;\">            8</td><td style=\"text-align: right;\">      183</td><td style=\"text-align: right;\">             64</td><td style=\"text-align: right;\">              0</td><td style=\"text-align: right;\">        0</td><td style=\"text-align: right;\"> 23.3</td><td style=\"text-align: right;\">                     0.672</td><td style=\"text-align: right;\">   32</td><td style=\"text-align: right;\">        1</td></tr>\n",
              "<tr><td style=\"text-align: right;\">            1</td><td style=\"text-align: right;\">       89</td><td style=\"text-align: right;\">             66</td><td style=\"text-align: right;\">             23</td><td style=\"text-align: right;\">       94</td><td style=\"text-align: right;\"> 28.1</td><td style=\"text-align: right;\">                     0.167</td><td style=\"text-align: right;\">   21</td><td style=\"text-align: right;\">        0</td></tr>\n",
              "<tr><td style=\"text-align: right;\">            0</td><td style=\"text-align: right;\">      137</td><td style=\"text-align: right;\">             40</td><td style=\"text-align: right;\">             35</td><td style=\"text-align: right;\">      168</td><td style=\"text-align: right;\"> 43.1</td><td style=\"text-align: right;\">                     2.288</td><td style=\"text-align: right;\">   33</td><td style=\"text-align: right;\">        1</td></tr>\n",
              "</tbody>\n",
              "</table>"
            ]
          },
          "metadata": {
            "tags": []
          }
        },
        {
          "output_type": "execute_result",
          "data": {
            "text/plain": [
              ""
            ]
          },
          "metadata": {
            "tags": []
          },
          "execution_count": 4
        }
      ]
    },
    {
      "cell_type": "code",
      "metadata": {
        "colab": {
          "base_uri": "https://localhost:8080/",
          "height": 465
        },
        "id": "Tmcc12QByCT4",
        "outputId": "05a751d7-011b-4054-a1d3-4daa50afa138"
      },
      "source": [
        "diabetes_data.describe()"
      ],
      "execution_count": 5,
      "outputs": [
        {
          "output_type": "stream",
          "text": [
            "Rows:768\n",
            "Cols:9\n",
            "\n",
            "\n"
          ],
          "name": "stdout"
        },
        {
          "output_type": "display_data",
          "data": {
            "text/html": [
              "<table>\n",
              "<thead>\n",
              "<tr><th>       </th><th>Pregnancies      </th><th>Glucose           </th><th>BloodPressure     </th><th>SkinThickness     </th><th>Insulin           </th><th>BMI              </th><th>DiabetesPedigreeFunction  </th><th>Age               </th><th>Outcome            </th></tr>\n",
              "</thead>\n",
              "<tbody>\n",
              "<tr><td>type   </td><td>int              </td><td>int               </td><td>int               </td><td>int               </td><td>int               </td><td>real             </td><td>real                      </td><td>int               </td><td>int                </td></tr>\n",
              "<tr><td>mins   </td><td>0.0              </td><td>0.0               </td><td>0.0               </td><td>0.0               </td><td>0.0               </td><td>0.0              </td><td>0.078                     </td><td>21.0              </td><td>0.0                </td></tr>\n",
              "<tr><td>mean   </td><td>3.845052083333336</td><td>120.89453125      </td><td>69.10546874999994 </td><td>20.536458333333357</td><td>79.79947916666666 </td><td>31.99257812500003</td><td>0.4718763020833334        </td><td>33.240885416666615</td><td>0.3489583333333333 </td></tr>\n",
              "<tr><td>maxs   </td><td>17.0             </td><td>199.0             </td><td>122.0             </td><td>99.0              </td><td>846.0             </td><td>67.1             </td><td>2.42                      </td><td>81.0              </td><td>1.0                </td></tr>\n",
              "<tr><td>sigma  </td><td>3.36957806269887 </td><td>31.972618195136224</td><td>19.355807170644777</td><td>15.952217567727642</td><td>115.24400235133803</td><td>7.884160320375441</td><td>0.331328595012775         </td><td>11.760231540678689</td><td>0.47695137724279896</td></tr>\n",
              "<tr><td>zeros  </td><td>111              </td><td>5                 </td><td>35                </td><td>227               </td><td>374               </td><td>11               </td><td>0                         </td><td>0                 </td><td>500                </td></tr>\n",
              "<tr><td>missing</td><td>0                </td><td>0                 </td><td>0                 </td><td>0                 </td><td>0                 </td><td>0                </td><td>0                         </td><td>0                 </td><td>0                  </td></tr>\n",
              "<tr><td>0      </td><td>6.0              </td><td>148.0             </td><td>72.0              </td><td>35.0              </td><td>0.0               </td><td>33.6             </td><td>0.627                     </td><td>50.0              </td><td>1.0                </td></tr>\n",
              "<tr><td>1      </td><td>1.0              </td><td>85.0              </td><td>66.0              </td><td>29.0              </td><td>0.0               </td><td>26.6             </td><td>0.351                     </td><td>31.0              </td><td>0.0                </td></tr>\n",
              "<tr><td>2      </td><td>8.0              </td><td>183.0             </td><td>64.0              </td><td>0.0               </td><td>0.0               </td><td>23.3             </td><td>0.672                     </td><td>32.0              </td><td>1.0                </td></tr>\n",
              "<tr><td>3      </td><td>1.0              </td><td>89.0              </td><td>66.0              </td><td>23.0              </td><td>94.0              </td><td>28.1             </td><td>0.167                     </td><td>21.0              </td><td>0.0                </td></tr>\n",
              "<tr><td>4      </td><td>0.0              </td><td>137.0             </td><td>40.0              </td><td>35.0              </td><td>168.0             </td><td>43.1             </td><td>2.288                     </td><td>33.0              </td><td>1.0                </td></tr>\n",
              "<tr><td>5      </td><td>5.0              </td><td>116.0             </td><td>74.0              </td><td>0.0               </td><td>0.0               </td><td>25.6             </td><td>0.201                     </td><td>30.0              </td><td>0.0                </td></tr>\n",
              "<tr><td>6      </td><td>3.0              </td><td>78.0              </td><td>50.0              </td><td>32.0              </td><td>88.0              </td><td>31.0             </td><td>0.248                     </td><td>26.0              </td><td>1.0                </td></tr>\n",
              "<tr><td>7      </td><td>10.0             </td><td>115.0             </td><td>0.0               </td><td>0.0               </td><td>0.0               </td><td>35.3             </td><td>0.134                     </td><td>29.0              </td><td>0.0                </td></tr>\n",
              "<tr><td>8      </td><td>2.0              </td><td>197.0             </td><td>70.0              </td><td>45.0              </td><td>543.0             </td><td>30.5             </td><td>0.158                     </td><td>53.0              </td><td>1.0                </td></tr>\n",
              "<tr><td>9      </td><td>8.0              </td><td>125.0             </td><td>96.0              </td><td>0.0               </td><td>0.0               </td><td>0.0              </td><td>0.232                     </td><td>54.0              </td><td>1.0                </td></tr>\n",
              "</tbody>\n",
              "</table>"
            ]
          },
          "metadata": {
            "tags": []
          }
        }
      ]
    },
    {
      "cell_type": "code",
      "metadata": {
        "id": "dXNWuR2qyCT5"
      },
      "source": [
        "diabetes_data['Outcome'] = diabetes_data['Outcome'].asfactor()"
      ],
      "execution_count": 6,
      "outputs": []
    },
    {
      "cell_type": "code",
      "metadata": {
        "id": "nq2aXOfJyCT5"
      },
      "source": [
        "diabetes_split = diabetes_data.split_frame(ratios = [0.8])\n",
        "db_train = diabetes_split[0]\n",
        "db_test = diabetes_split[1]"
      ],
      "execution_count": 7,
      "outputs": []
    },
    {
      "cell_type": "code",
      "metadata": {
        "id": "uXYZklf9yCT7"
      },
      "source": [
        "x=['Pregnancies','Glucose', 'BloodPressure','SkinThickness','Insulin' ,'BMI','DiabetesPedigreeFunction','Age']\n",
        "y='Outcome'"
      ],
      "execution_count": 8,
      "outputs": []
    },
    {
      "cell_type": "code",
      "metadata": {
        "id": "fsk310QiyCT8"
      },
      "source": [
        "automl = H2OAutoML(max_models = 30, max_runtime_secs=300, seed = 1)"
      ],
      "execution_count": 9,
      "outputs": []
    },
    {
      "cell_type": "code",
      "metadata": {
        "colab": {
          "base_uri": "https://localhost:8080/",
          "height": 729
        },
        "id": "CWLrZjp_yCT-",
        "outputId": "aeb48b65-feb3-4fed-f764-6aa2a862aba4"
      },
      "source": [
        "automl.train(x = x, y = y, training_frame = db_train)\n",
        "leader = automl.leaderboard\n",
        "leader.head()\n",
        "leader.head(rows=leader.nrows)"
      ],
      "execution_count": 10,
      "outputs": [
        {
          "output_type": "stream",
          "text": [
            "AutoML progress: |████████████████████████████████████████████████████████| 100%\n"
          ],
          "name": "stdout"
        },
        {
          "output_type": "display_data",
          "data": {
            "text/html": [
              "<table>\n",
              "<thead>\n",
              "<tr><th>model_id                                           </th><th style=\"text-align: right;\">     auc</th><th style=\"text-align: right;\">  logloss</th><th style=\"text-align: right;\">   aucpr</th><th style=\"text-align: right;\">  mean_per_class_error</th><th style=\"text-align: right;\">    rmse</th><th style=\"text-align: right;\">     mse</th></tr>\n",
              "</thead>\n",
              "<tbody>\n",
              "<tr><td>StackedEnsemble_BestOfFamily_AutoML_20210531_051719</td><td style=\"text-align: right;\">0.836173</td><td style=\"text-align: right;\"> 0.472273</td><td style=\"text-align: right;\">0.700046</td><td style=\"text-align: right;\">              0.240024</td><td style=\"text-align: right;\">0.392447</td><td style=\"text-align: right;\">0.154015</td></tr>\n",
              "<tr><td>StackedEnsemble_AllModels_AutoML_20210531_051719   </td><td style=\"text-align: right;\">0.829099</td><td style=\"text-align: right;\"> 0.479401</td><td style=\"text-align: right;\">0.684942</td><td style=\"text-align: right;\">              0.246329</td><td style=\"text-align: right;\">0.396082</td><td style=\"text-align: right;\">0.156881</td></tr>\n",
              "<tr><td>GLM_1_AutoML_20210531_051719                       </td><td style=\"text-align: right;\">0.826752</td><td style=\"text-align: right;\"> 0.481807</td><td style=\"text-align: right;\">0.694032</td><td style=\"text-align: right;\">              0.251779</td><td style=\"text-align: right;\">0.398087</td><td style=\"text-align: right;\">0.158473</td></tr>\n",
              "<tr><td>DeepLearning_1_AutoML_20210531_051719              </td><td style=\"text-align: right;\">0.826374</td><td style=\"text-align: right;\"> 0.482788</td><td style=\"text-align: right;\">0.698637</td><td style=\"text-align: right;\">              0.256163</td><td style=\"text-align: right;\">0.400376</td><td style=\"text-align: right;\">0.160301</td></tr>\n",
              "<tr><td>XGBoost_grid__1_AutoML_20210531_051719_model_5     </td><td style=\"text-align: right;\">0.82564 </td><td style=\"text-align: right;\"> 0.482569</td><td style=\"text-align: right;\">0.691778</td><td style=\"text-align: right;\">              0.248175</td><td style=\"text-align: right;\">0.40012 </td><td style=\"text-align: right;\">0.160096</td></tr>\n",
              "<tr><td>GBM_grid__1_AutoML_20210531_051719_model_2         </td><td style=\"text-align: right;\">0.825477</td><td style=\"text-align: right;\"> 0.483917</td><td style=\"text-align: right;\">0.691216</td><td style=\"text-align: right;\">              0.243959</td><td style=\"text-align: right;\">0.399405</td><td style=\"text-align: right;\">0.159524</td></tr>\n",
              "<tr><td>XGBoost_grid__1_AutoML_20210531_051719_model_2     </td><td style=\"text-align: right;\">0.824732</td><td style=\"text-align: right;\"> 0.485463</td><td style=\"text-align: right;\">0.676029</td><td style=\"text-align: right;\">              0.236239</td><td style=\"text-align: right;\">0.400051</td><td style=\"text-align: right;\">0.160041</td></tr>\n",
              "<tr><td>GBM_grid__1_AutoML_20210531_051719_model_4         </td><td style=\"text-align: right;\">0.820639</td><td style=\"text-align: right;\"> 0.489818</td><td style=\"text-align: right;\">0.665605</td><td style=\"text-align: right;\">              0.248786</td><td style=\"text-align: right;\">0.402786</td><td style=\"text-align: right;\">0.162237</td></tr>\n",
              "<tr><td>XRT_1_AutoML_20210531_051719                       </td><td style=\"text-align: right;\">0.819894</td><td style=\"text-align: right;\"> 0.536407</td><td style=\"text-align: right;\">0.678777</td><td style=\"text-align: right;\">              0.250451</td><td style=\"text-align: right;\">0.400618</td><td style=\"text-align: right;\">0.160495</td></tr>\n",
              "<tr><td>GBM_1_AutoML_20210531_051719                       </td><td style=\"text-align: right;\">0.819096</td><td style=\"text-align: right;\"> 0.503203</td><td style=\"text-align: right;\">0.665144</td><td style=\"text-align: right;\">              0.230009</td><td style=\"text-align: right;\">0.404898</td><td style=\"text-align: right;\">0.163943</td></tr>\n",
              "<tr><td>XGBoost_grid__1_AutoML_20210531_051719_model_9     </td><td style=\"text-align: right;\">0.819003</td><td style=\"text-align: right;\"> 0.493181</td><td style=\"text-align: right;\">0.656691</td><td style=\"text-align: right;\">              0.247202</td><td style=\"text-align: right;\">0.404569</td><td style=\"text-align: right;\">0.163676</td></tr>\n",
              "<tr><td>DeepLearning_grid__1_AutoML_20210531_051719_model_2</td><td style=\"text-align: right;\">0.818549</td><td style=\"text-align: right;\"> 0.520459</td><td style=\"text-align: right;\">0.68161 </td><td style=\"text-align: right;\">              0.247121</td><td style=\"text-align: right;\">0.412505</td><td style=\"text-align: right;\">0.17016 </td></tr>\n",
              "<tr><td>GBM_4_AutoML_20210531_051719                       </td><td style=\"text-align: right;\">0.817239</td><td style=\"text-align: right;\"> 0.499692</td><td style=\"text-align: right;\">0.673549</td><td style=\"text-align: right;\">              0.244315</td><td style=\"text-align: right;\">0.405853</td><td style=\"text-align: right;\">0.164717</td></tr>\n",
              "<tr><td>GBM_5_AutoML_20210531_051719                       </td><td style=\"text-align: right;\">0.816796</td><td style=\"text-align: right;\"> 0.489337</td><td style=\"text-align: right;\">0.67847 </td><td style=\"text-align: right;\">              0.240454</td><td style=\"text-align: right;\">0.403373</td><td style=\"text-align: right;\">0.162709</td></tr>\n",
              "<tr><td>GBM_2_AutoML_20210531_051719                       </td><td style=\"text-align: right;\">0.816307</td><td style=\"text-align: right;\"> 0.495354</td><td style=\"text-align: right;\">0.675336</td><td style=\"text-align: right;\">              0.25055 </td><td style=\"text-align: right;\">0.403621</td><td style=\"text-align: right;\">0.16291 </td></tr>\n",
              "<tr><td>XGBoost_grid__1_AutoML_20210531_051719_model_3     </td><td style=\"text-align: right;\">0.815346</td><td style=\"text-align: right;\"> 0.510021</td><td style=\"text-align: right;\">0.663963</td><td style=\"text-align: right;\">              0.260367</td><td style=\"text-align: right;\">0.409514</td><td style=\"text-align: right;\">0.167702</td></tr>\n",
              "<tr><td>XGBoost_grid__1_AutoML_20210531_051719_model_7     </td><td style=\"text-align: right;\">0.812039</td><td style=\"text-align: right;\"> 0.505887</td><td style=\"text-align: right;\">0.66925 </td><td style=\"text-align: right;\">              0.251156</td><td style=\"text-align: right;\">0.408583</td><td style=\"text-align: right;\">0.16694 </td></tr>\n",
              "<tr><td>GBM_3_AutoML_20210531_051719                       </td><td style=\"text-align: right;\">0.811905</td><td style=\"text-align: right;\"> 0.506486</td><td style=\"text-align: right;\">0.661492</td><td style=\"text-align: right;\">              0.25037 </td><td style=\"text-align: right;\">0.408322</td><td style=\"text-align: right;\">0.166727</td></tr>\n",
              "<tr><td>GBM_grid__1_AutoML_20210531_051719_model_1         </td><td style=\"text-align: right;\">0.811748</td><td style=\"text-align: right;\"> 0.501552</td><td style=\"text-align: right;\">0.684818</td><td style=\"text-align: right;\">              0.254055</td><td style=\"text-align: right;\">0.408337</td><td style=\"text-align: right;\">0.166739</td></tr>\n",
              "<tr><td>DRF_1_AutoML_20210531_051719                       </td><td style=\"text-align: right;\">0.809122</td><td style=\"text-align: right;\"> 0.70115 </td><td style=\"text-align: right;\">0.670573</td><td style=\"text-align: right;\">              0.25423 </td><td style=\"text-align: right;\">0.405702</td><td style=\"text-align: right;\">0.164594</td></tr>\n",
              "<tr><td>XGBoost_2_AutoML_20210531_051719                   </td><td style=\"text-align: right;\">0.807527</td><td style=\"text-align: right;\"> 0.508806</td><td style=\"text-align: right;\">0.648398</td><td style=\"text-align: right;\">              0.257042</td><td style=\"text-align: right;\">0.411687</td><td style=\"text-align: right;\">0.169486</td></tr>\n",
              "<tr><td>XGBoost_grid__1_AutoML_20210531_051719_model_8     </td><td style=\"text-align: right;\">0.806671</td><td style=\"text-align: right;\"> 0.528348</td><td style=\"text-align: right;\">0.642399</td><td style=\"text-align: right;\">              0.255732</td><td style=\"text-align: right;\">0.416566</td><td style=\"text-align: right;\">0.173528</td></tr>\n",
              "<tr><td>XGBoost_3_AutoML_20210531_051719                   </td><td style=\"text-align: right;\">0.805984</td><td style=\"text-align: right;\"> 0.532596</td><td style=\"text-align: right;\">0.657447</td><td style=\"text-align: right;\">              0.26046 </td><td style=\"text-align: right;\">0.418271</td><td style=\"text-align: right;\">0.174951</td></tr>\n",
              "<tr><td>XGBoost_1_AutoML_20210531_051719                   </td><td style=\"text-align: right;\">0.805536</td><td style=\"text-align: right;\"> 0.52269 </td><td style=\"text-align: right;\">0.653177</td><td style=\"text-align: right;\">              0.262649</td><td style=\"text-align: right;\">0.415781</td><td style=\"text-align: right;\">0.172874</td></tr>\n",
              "<tr><td>DeepLearning_grid__2_AutoML_20210531_051719_model_1</td><td style=\"text-align: right;\">0.8033  </td><td style=\"text-align: right;\"> 0.580861</td><td style=\"text-align: right;\">0.667029</td><td style=\"text-align: right;\">              0.260279</td><td style=\"text-align: right;\">0.413354</td><td style=\"text-align: right;\">0.170862</td></tr>\n",
              "<tr><td>DeepLearning_grid__3_AutoML_20210531_051719_model_1</td><td style=\"text-align: right;\">0.803155</td><td style=\"text-align: right;\"> 0.566828</td><td style=\"text-align: right;\">0.657819</td><td style=\"text-align: right;\">              0.254661</td><td style=\"text-align: right;\">0.412375</td><td style=\"text-align: right;\">0.170053</td></tr>\n",
              "<tr><td>GBM_grid__1_AutoML_20210531_051719_model_5         </td><td style=\"text-align: right;\">0.798788</td><td style=\"text-align: right;\"> 0.5145  </td><td style=\"text-align: right;\">0.640516</td><td style=\"text-align: right;\">              0.266608</td><td style=\"text-align: right;\">0.413999</td><td style=\"text-align: right;\">0.171395</td></tr>\n",
              "<tr><td>XGBoost_grid__1_AutoML_20210531_051719_model_1     </td><td style=\"text-align: right;\">0.798404</td><td style=\"text-align: right;\"> 0.580669</td><td style=\"text-align: right;\">0.641341</td><td style=\"text-align: right;\">              0.261432</td><td style=\"text-align: right;\">0.42716 </td><td style=\"text-align: right;\">0.182465</td></tr>\n",
              "<tr><td>XGBoost_grid__1_AutoML_20210531_051719_model_6     </td><td style=\"text-align: right;\">0.79785 </td><td style=\"text-align: right;\"> 0.513114</td><td style=\"text-align: right;\">0.645497</td><td style=\"text-align: right;\">              0.27459 </td><td style=\"text-align: right;\">0.412846</td><td style=\"text-align: right;\">0.170442</td></tr>\n",
              "<tr><td>XGBoost_grid__1_AutoML_20210531_051719_model_4     </td><td style=\"text-align: right;\">0.797414</td><td style=\"text-align: right;\"> 0.566176</td><td style=\"text-align: right;\">0.629234</td><td style=\"text-align: right;\">              0.256244</td><td style=\"text-align: right;\">0.426661</td><td style=\"text-align: right;\">0.18204 </td></tr>\n",
              "<tr><td>DeepLearning_grid__1_AutoML_20210531_051719_model_1</td><td style=\"text-align: right;\">0.790217</td><td style=\"text-align: right;\"> 0.957851</td><td style=\"text-align: right;\">0.656957</td><td style=\"text-align: right;\">              0.274585</td><td style=\"text-align: right;\">0.442736</td><td style=\"text-align: right;\">0.196015</td></tr>\n",
              "<tr><td>GBM_grid__1_AutoML_20210531_051719_model_3         </td><td style=\"text-align: right;\">0.78209 </td><td style=\"text-align: right;\"> 0.575249</td><td style=\"text-align: right;\">0.631969</td><td style=\"text-align: right;\">              0.273269</td><td style=\"text-align: right;\">0.435114</td><td style=\"text-align: right;\">0.189324</td></tr>\n",
              "</tbody>\n",
              "</table>"
            ]
          },
          "metadata": {
            "tags": []
          }
        },
        {
          "output_type": "execute_result",
          "data": {
            "text/plain": [
              ""
            ]
          },
          "metadata": {
            "tags": []
          },
          "execution_count": 10
        }
      ]
    },
    {
      "cell_type": "code",
      "metadata": {
        "id": "g9BnuXsK2XZm",
        "outputId": "2ff94cb1-00a8-4837-a4e3-1f59901c7b6d",
        "colab": {
          "base_uri": "https://localhost:8080/"
        }
      },
      "source": [
        "predictions = automl.predict(db_test[:-1])\n",
        "(predictions['predict']==db_test['Outcome']).as_data_frame(use_pandas=True).mean()"
      ],
      "execution_count": 11,
      "outputs": [
        {
          "output_type": "stream",
          "text": [
            "stackedensemble prediction progress: |████████████████████████████████████| 100%\n"
          ],
          "name": "stdout"
        },
        {
          "output_type": "execute_result",
          "data": {
            "text/plain": [
              "predict    0.766667\n",
              "dtype: float64"
            ]
          },
          "metadata": {
            "tags": []
          },
          "execution_count": 11
        }
      ]
    },
    {
      "cell_type": "code",
      "metadata": {
        "colab": {
          "base_uri": "https://localhost:8080/",
          "height": 35
        },
        "id": "F9RVv4rbyCUA",
        "outputId": "0ad96430-c1f8-4fe4-8d89-3a8095ab37ac"
      },
      "source": [
        "h2o.save_model(automl.leader, path = \"/content/UAS-Machine-Learning/\")"
      ],
      "execution_count": 12,
      "outputs": [
        {
          "output_type": "execute_result",
          "data": {
            "application/vnd.google.colaboratory.intrinsic+json": {
              "type": "string"
            },
            "text/plain": [
              "'/content/UAS-Machine-Learning/StackedEnsemble_BestOfFamily_AutoML_20210531_051719'"
            ]
          },
          "metadata": {
            "tags": []
          },
          "execution_count": 12
        }
      ]
    },
    {
      "cell_type": "code",
      "metadata": {
        "colab": {
          "base_uri": "https://localhost:8080/"
        },
        "id": "tBOP39YYyCUB",
        "outputId": "8a2ea5f7-854c-4ae3-ed81-633dfe58fd49"
      },
      "source": [
        "h2o.cluster().shutdown()"
      ],
      "execution_count": 13,
      "outputs": [
        {
          "output_type": "stream",
          "text": [
            "H2O session _sid_aaa4 closed.\n"
          ],
          "name": "stdout"
        }
      ]
    }
  ]
}