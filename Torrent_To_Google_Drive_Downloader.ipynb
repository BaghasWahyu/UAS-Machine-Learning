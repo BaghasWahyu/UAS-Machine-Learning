{
  "nbformat": 4,
  "nbformat_minor": 0,
  "metadata": {
    "colab": {
      "name": "Torrent To Google Drive Downloader",
      "provenance": [],
      "collapsed_sections": [],
      "include_colab_link": true
    },
    "kernelspec": {
      "display_name": "Python 3",
      "language": "python",
      "name": "python3"
    },
    "accelerator": "GPU",
    "widgets": {
      "application/vnd.jupyter.widget-state+json": {
        "110d6eb092434dfbbcaa4f7d44568a29": {
          "model_module": "@jupyter-widgets/controls",
          "model_name": "FloatSliderModel",
          "state": {
            "_view_name": "FloatSliderView",
            "style": "IPY_MODEL_4f496fe8852147daa858dcefd35f43b0",
            "_dom_classes": [],
            "description": "",
            "step": 0.01,
            "_model_name": "FloatSliderModel",
            "orientation": "horizontal",
            "max": 100,
            "_view_module": "@jupyter-widgets/controls",
            "_model_module_version": "1.5.0",
            "value": 0,
            "_view_count": null,
            "disabled": true,
            "_view_module_version": "1.5.0",
            "min": 0,
            "continuous_update": true,
            "readout_format": ".2f",
            "description_tooltip": null,
            "readout": true,
            "_model_module": "@jupyter-widgets/controls",
            "layout": "IPY_MODEL_5cfb1b2803fd4551879218058342f730"
          }
        },
        "4f496fe8852147daa858dcefd35f43b0": {
          "model_module": "@jupyter-widgets/controls",
          "model_name": "SliderStyleModel",
          "state": {
            "_view_name": "StyleView",
            "handle_color": null,
            "_model_name": "SliderStyleModel",
            "description_width": "initial",
            "_view_module": "@jupyter-widgets/base",
            "_model_module_version": "1.5.0",
            "_view_count": null,
            "_view_module_version": "1.2.0",
            "_model_module": "@jupyter-widgets/controls"
          }
        },
        "5cfb1b2803fd4551879218058342f730": {
          "model_module": "@jupyter-widgets/base",
          "model_name": "LayoutModel",
          "state": {
            "_view_name": "LayoutView",
            "grid_template_rows": null,
            "right": null,
            "justify_content": null,
            "_view_module": "@jupyter-widgets/base",
            "overflow": null,
            "_model_module_version": "1.2.0",
            "_view_count": null,
            "flex_flow": null,
            "width": "auto",
            "min_width": null,
            "border": null,
            "align_items": null,
            "bottom": null,
            "_model_module": "@jupyter-widgets/base",
            "top": null,
            "grid_column": null,
            "overflow_y": null,
            "overflow_x": null,
            "grid_auto_flow": null,
            "grid_area": null,
            "grid_template_columns": null,
            "flex": null,
            "_model_name": "LayoutModel",
            "justify_items": null,
            "grid_row": null,
            "max_height": null,
            "align_content": null,
            "visibility": null,
            "align_self": null,
            "height": null,
            "min_height": null,
            "padding": null,
            "grid_auto_rows": null,
            "grid_gap": null,
            "max_width": null,
            "order": null,
            "_view_module_version": "1.2.0",
            "grid_template_areas": null,
            "object_position": null,
            "object_fit": null,
            "grid_auto_columns": null,
            "margin": null,
            "display": null,
            "left": null
          }
        }
      }
    }
  },
  "cells": [
    {
      "cell_type": "markdown",
      "metadata": {
        "id": "view-in-github",
        "colab_type": "text"
      },
      "source": [
        "<a href=\"https://colab.research.google.com/github/BaghasWahyu/UAS-Machine-Learning/blob/main/Torrent_To_Google_Drive_Downloader.ipynb\" target=\"_parent\"><img src=\"https://colab.research.google.com/assets/colab-badge.svg\" alt=\"Open In Colab\"/></a>"
      ]
    },
    {
      "cell_type": "markdown",
      "metadata": {
        "id": "aQuWDmfm9YOi"
      },
      "source": [
        "# Torrent To Google Drive Downloader "
      ]
    },
    {
      "cell_type": "markdown",
      "metadata": {
        "id": "qYk44mBwJf6E"
      },
      "source": [
        "**Important Note:** To get more disk space:\n",
        "> Go to Runtime -> Change Runtime and give GPU as the Hardware Accelerator.  You will get around 384GB to download any torrent you want."
      ]
    },
    {
      "cell_type": "code",
      "metadata": {
        "id": "JJVTkKxu-MKF",
        "outputId": "805031ca-60ba-4d8e-c273-07b3c1f5a4f2",
        "colab": {
          "base_uri": "https://localhost:8080/"
        }
      },
      "source": [
        "!python -m pip install --upgrade pip setuptools wheel\n",
        "!python -m pip install lbry-libtorrent"
      ],
      "execution_count": 8,
      "outputs": [
        {
          "output_type": "stream",
          "text": [
            "Collecting pip\n",
            "\u001b[?25l  Downloading https://files.pythonhosted.org/packages/cd/82/04e9aaf603fdbaecb4323b9e723f13c92c245f6ab2902195c53987848c78/pip-21.1.2-py3-none-any.whl (1.5MB)\n",
            "\r\u001b[K     |▏                               | 10kB 20.3MB/s eta 0:00:01\r\u001b[K     |▍                               | 20kB 25.2MB/s eta 0:00:01\r\u001b[K     |▋                               | 30kB 29.0MB/s eta 0:00:01\r\u001b[K     |▉                               | 40kB 31.2MB/s eta 0:00:01\r\u001b[K     |█                               | 51kB 33.1MB/s eta 0:00:01\r\u001b[K     |█▎                              | 61kB 34.0MB/s eta 0:00:01\r\u001b[K     |█▌                              | 71kB 34.0MB/s eta 0:00:01\r\u001b[K     |█▊                              | 81kB 33.9MB/s eta 0:00:01\r\u001b[K     |██                              | 92kB 34.8MB/s eta 0:00:01\r\u001b[K     |██▏                             | 102kB 36.0MB/s eta 0:00:01\r\u001b[K     |██▎                             | 112kB 36.0MB/s eta 0:00:01\r\u001b[K     |██▌                             | 122kB 36.0MB/s eta 0:00:01\r\u001b[K     |██▊                             | 133kB 36.0MB/s eta 0:00:01\r\u001b[K     |███                             | 143kB 36.0MB/s eta 0:00:01\r\u001b[K     |███▏                            | 153kB 36.0MB/s eta 0:00:01\r\u001b[K     |███▍                            | 163kB 36.0MB/s eta 0:00:01\r\u001b[K     |███▋                            | 174kB 36.0MB/s eta 0:00:01\r\u001b[K     |███▉                            | 184kB 36.0MB/s eta 0:00:01\r\u001b[K     |████                            | 194kB 36.0MB/s eta 0:00:01\r\u001b[K     |████▎                           | 204kB 36.0MB/s eta 0:00:01\r\u001b[K     |████▌                           | 215kB 36.0MB/s eta 0:00:01\r\u001b[K     |████▋                           | 225kB 36.0MB/s eta 0:00:01\r\u001b[K     |████▉                           | 235kB 36.0MB/s eta 0:00:01\r\u001b[K     |█████                           | 245kB 36.0MB/s eta 0:00:01\r\u001b[K     |█████▎                          | 256kB 36.0MB/s eta 0:00:01\r\u001b[K     |█████▌                          | 266kB 36.0MB/s eta 0:00:01\r\u001b[K     |█████▊                          | 276kB 36.0MB/s eta 0:00:01\r\u001b[K     |██████                          | 286kB 36.0MB/s eta 0:00:01\r\u001b[K     |██████▏                         | 296kB 36.0MB/s eta 0:00:01\r\u001b[K     |██████▍                         | 307kB 36.0MB/s eta 0:00:01\r\u001b[K     |██████▋                         | 317kB 36.0MB/s eta 0:00:01\r\u001b[K     |██████▊                         | 327kB 36.0MB/s eta 0:00:01\r\u001b[K     |███████                         | 337kB 36.0MB/s eta 0:00:01\r\u001b[K     |███████▏                        | 348kB 36.0MB/s eta 0:00:01\r\u001b[K     |███████▍                        | 358kB 36.0MB/s eta 0:00:01\r\u001b[K     |███████▋                        | 368kB 36.0MB/s eta 0:00:01\r\u001b[K     |███████▉                        | 378kB 36.0MB/s eta 0:00:01\r\u001b[K     |████████                        | 389kB 36.0MB/s eta 0:00:01\r\u001b[K     |████████▎                       | 399kB 36.0MB/s eta 0:00:01\r\u001b[K     |████████▌                       | 409kB 36.0MB/s eta 0:00:01\r\u001b[K     |████████▊                       | 419kB 36.0MB/s eta 0:00:01\r\u001b[K     |█████████                       | 430kB 36.0MB/s eta 0:00:01\r\u001b[K     |█████████                       | 440kB 36.0MB/s eta 0:00:01\r\u001b[K     |█████████▎                      | 450kB 36.0MB/s eta 0:00:01\r\u001b[K     |█████████▌                      | 460kB 36.0MB/s eta 0:00:01\r\u001b[K     |█████████▊                      | 471kB 36.0MB/s eta 0:00:01\r\u001b[K     |██████████                      | 481kB 36.0MB/s eta 0:00:01\r\u001b[K     |██████████▏                     | 491kB 36.0MB/s eta 0:00:01\r\u001b[K     |██████████▍                     | 501kB 36.0MB/s eta 0:00:01\r\u001b[K     |██████████▋                     | 512kB 36.0MB/s eta 0:00:01\r\u001b[K     |██████████▉                     | 522kB 36.0MB/s eta 0:00:01\r\u001b[K     |███████████                     | 532kB 36.0MB/s eta 0:00:01\r\u001b[K     |███████████▏                    | 542kB 36.0MB/s eta 0:00:01\r\u001b[K     |███████████▍                    | 552kB 36.0MB/s eta 0:00:01\r\u001b[K     |███████████▋                    | 563kB 36.0MB/s eta 0:00:01\r\u001b[K     |███████████▉                    | 573kB 36.0MB/s eta 0:00:01\r\u001b[K     |████████████                    | 583kB 36.0MB/s eta 0:00:01\r\u001b[K     |████████████▎                   | 593kB 36.0MB/s eta 0:00:01\r\u001b[K     |████████████▌                   | 604kB 36.0MB/s eta 0:00:01\r\u001b[K     |████████████▊                   | 614kB 36.0MB/s eta 0:00:01\r\u001b[K     |█████████████                   | 624kB 36.0MB/s eta 0:00:01\r\u001b[K     |█████████████▏                  | 634kB 36.0MB/s eta 0:00:01\r\u001b[K     |█████████████▍                  | 645kB 36.0MB/s eta 0:00:01\r\u001b[K     |█████████████▌                  | 655kB 36.0MB/s eta 0:00:01\r\u001b[K     |█████████████▊                  | 665kB 36.0MB/s eta 0:00:01\r\u001b[K     |██████████████                  | 675kB 36.0MB/s eta 0:00:01\r\u001b[K     |██████████████▏                 | 686kB 36.0MB/s eta 0:00:01\r\u001b[K     |██████████████▍                 | 696kB 36.0MB/s eta 0:00:01\r\u001b[K     |██████████████▋                 | 706kB 36.0MB/s eta 0:00:01\r\u001b[K     |██████████████▉                 | 716kB 36.0MB/s eta 0:00:01\r\u001b[K     |███████████████                 | 727kB 36.0MB/s eta 0:00:01\r\u001b[K     |███████████████▎                | 737kB 36.0MB/s eta 0:00:01\r\u001b[K     |███████████████▌                | 747kB 36.0MB/s eta 0:00:01\r\u001b[K     |███████████████▋                | 757kB 36.0MB/s eta 0:00:01\r\u001b[K     |███████████████▉                | 768kB 36.0MB/s eta 0:00:01\r\u001b[K     |████████████████                | 778kB 36.0MB/s eta 0:00:01\r\u001b[K     |████████████████▎               | 788kB 36.0MB/s eta 0:00:01\r\u001b[K     |████████████████▌               | 798kB 36.0MB/s eta 0:00:01\r\u001b[K     |████████████████▊               | 808kB 36.0MB/s eta 0:00:01\r\u001b[K     |█████████████████               | 819kB 36.0MB/s eta 0:00:01\r\u001b[K     |█████████████████▏              | 829kB 36.0MB/s eta 0:00:01\r\u001b[K     |█████████████████▍              | 839kB 36.0MB/s eta 0:00:01\r\u001b[K     |█████████████████▋              | 849kB 36.0MB/s eta 0:00:01\r\u001b[K     |█████████████████▉              | 860kB 36.0MB/s eta 0:00:01\r\u001b[K     |██████████████████              | 870kB 36.0MB/s eta 0:00:01\r\u001b[K     |██████████████████▏             | 880kB 36.0MB/s eta 0:00:01\r\u001b[K     |██████████████████▍             | 890kB 36.0MB/s eta 0:00:01\r\u001b[K     |██████████████████▋             | 901kB 36.0MB/s eta 0:00:01\r\u001b[K     |██████████████████▉             | 911kB 36.0MB/s eta 0:00:01\r\u001b[K     |███████████████████             | 921kB 36.0MB/s eta 0:00:01\r\u001b[K     |███████████████████▎            | 931kB 36.0MB/s eta 0:00:01\r\u001b[K     |███████████████████▌            | 942kB 36.0MB/s eta 0:00:01\r\u001b[K     |███████████████████▊            | 952kB 36.0MB/s eta 0:00:01\r\u001b[K     |████████████████████            | 962kB 36.0MB/s eta 0:00:01\r\u001b[K     |████████████████████            | 972kB 36.0MB/s eta 0:00:01\r\u001b[K     |████████████████████▎           | 983kB 36.0MB/s eta 0:00:01\r\u001b[K     |████████████████████▌           | 993kB 36.0MB/s eta 0:00:01\r\u001b[K     |████████████████████▊           | 1.0MB 36.0MB/s eta 0:00:01\r\u001b[K     |█████████████████████           | 1.0MB 36.0MB/s eta 0:00:01\r\u001b[K     |█████████████████████▏          | 1.0MB 36.0MB/s eta 0:00:01\r\u001b[K     |█████████████████████▍          | 1.0MB 36.0MB/s eta 0:00:01\r\u001b[K     |█████████████████████▋          | 1.0MB 36.0MB/s eta 0:00:01\r\u001b[K     |█████████████████████▉          | 1.1MB 36.0MB/s eta 0:00:01\r\u001b[K     |██████████████████████          | 1.1MB 36.0MB/s eta 0:00:01\r\u001b[K     |██████████████████████▎         | 1.1MB 36.0MB/s eta 0:00:01\r\u001b[K     |██████████████████████▍         | 1.1MB 36.0MB/s eta 0:00:01\r\u001b[K     |██████████████████████▋         | 1.1MB 36.0MB/s eta 0:00:01\r\u001b[K     |██████████████████████▉         | 1.1MB 36.0MB/s eta 0:00:01\r\u001b[K     |███████████████████████         | 1.1MB 36.0MB/s eta 0:00:01\r\u001b[K     |███████████████████████▎        | 1.1MB 36.0MB/s eta 0:00:01\r\u001b[K     |███████████████████████▌        | 1.1MB 36.0MB/s eta 0:00:01\r\u001b[K     |███████████████████████▊        | 1.1MB 36.0MB/s eta 0:00:01\r\u001b[K     |████████████████████████        | 1.2MB 36.0MB/s eta 0:00:01\r\u001b[K     |████████████████████████▏       | 1.2MB 36.0MB/s eta 0:00:01\r\u001b[K     |████████████████████████▍       | 1.2MB 36.0MB/s eta 0:00:01\r\u001b[K     |████████████████████████▌       | 1.2MB 36.0MB/s eta 0:00:01\r\u001b[K     |████████████████████████▊       | 1.2MB 36.0MB/s eta 0:00:01\r\u001b[K     |█████████████████████████       | 1.2MB 36.0MB/s eta 0:00:01\r\u001b[K     |█████████████████████████▏      | 1.2MB 36.0MB/s eta 0:00:01\r\u001b[K     |█████████████████████████▍      | 1.2MB 36.0MB/s eta 0:00:01\r\u001b[K     |█████████████████████████▋      | 1.2MB 36.0MB/s eta 0:00:01\r\u001b[K     |█████████████████████████▉      | 1.2MB 36.0MB/s eta 0:00:01\r\u001b[K     |██████████████████████████      | 1.3MB 36.0MB/s eta 0:00:01\r\u001b[K     |██████████████████████████▎     | 1.3MB 36.0MB/s eta 0:00:01\r\u001b[K     |██████████████████████████▌     | 1.3MB 36.0MB/s eta 0:00:01\r\u001b[K     |██████████████████████████▊     | 1.3MB 36.0MB/s eta 0:00:01\r\u001b[K     |██████████████████████████▉     | 1.3MB 36.0MB/s eta 0:00:01\r\u001b[K     |███████████████████████████     | 1.3MB 36.0MB/s eta 0:00:01\r\u001b[K     |███████████████████████████▎    | 1.3MB 36.0MB/s eta 0:00:01\r\u001b[K     |███████████████████████████▌    | 1.3MB 36.0MB/s eta 0:00:01\r\u001b[K     |███████████████████████████▊    | 1.3MB 36.0MB/s eta 0:00:01\r\u001b[K     |████████████████████████████    | 1.4MB 36.0MB/s eta 0:00:01\r\u001b[K     |████████████████████████████▏   | 1.4MB 36.0MB/s eta 0:00:01\r\u001b[K     |████████████████████████████▍   | 1.4MB 36.0MB/s eta 0:00:01\r\u001b[K     |████████████████████████████▋   | 1.4MB 36.0MB/s eta 0:00:01\r\u001b[K     |████████████████████████████▉   | 1.4MB 36.0MB/s eta 0:00:01\r\u001b[K     |█████████████████████████████   | 1.4MB 36.0MB/s eta 0:00:01\r\u001b[K     |█████████████████████████████▏  | 1.4MB 36.0MB/s eta 0:00:01\r\u001b[K     |█████████████████████████████▍  | 1.4MB 36.0MB/s eta 0:00:01\r\u001b[K     |█████████████████████████████▋  | 1.4MB 36.0MB/s eta 0:00:01\r\u001b[K     |█████████████████████████████▉  | 1.4MB 36.0MB/s eta 0:00:01\r\u001b[K     |██████████████████████████████  | 1.5MB 36.0MB/s eta 0:00:01\r\u001b[K     |██████████████████████████████▎ | 1.5MB 36.0MB/s eta 0:00:01\r\u001b[K     |██████████████████████████████▌ | 1.5MB 36.0MB/s eta 0:00:01\r\u001b[K     |██████████████████████████████▊ | 1.5MB 36.0MB/s eta 0:00:01\r\u001b[K     |███████████████████████████████ | 1.5MB 36.0MB/s eta 0:00:01\r\u001b[K     |███████████████████████████████▏| 1.5MB 36.0MB/s eta 0:00:01\r\u001b[K     |███████████████████████████████▎| 1.5MB 36.0MB/s eta 0:00:01\r\u001b[K     |███████████████████████████████▌| 1.5MB 36.0MB/s eta 0:00:01\r\u001b[K     |███████████████████████████████▊| 1.5MB 36.0MB/s eta 0:00:01\r\u001b[K     |████████████████████████████████| 1.5MB 36.0MB/s eta 0:00:01\r\u001b[K     |████████████████████████████████| 1.6MB 36.0MB/s \n",
            "\u001b[?25hRequirement already up-to-date: setuptools in /usr/local/lib/python3.7/dist-packages (57.0.0)\n",
            "Requirement already up-to-date: wheel in /usr/local/lib/python3.7/dist-packages (0.36.2)\n",
            "Installing collected packages: pip\n",
            "  Found existing installation: pip 19.3.1\n",
            "    Uninstalling pip-19.3.1:\n",
            "      Successfully uninstalled pip-19.3.1\n",
            "Successfully installed pip-21.1.2\n",
            "Collecting lbry-libtorrent\n",
            "  Downloading lbry_libtorrent-1.2.4-py3-none-any.whl (2.4 MB)\n",
            "\u001b[K     |████████████████████████████████| 2.4 MB 34.1 MB/s \n",
            "\u001b[?25hInstalling collected packages: lbry-libtorrent\n",
            "Successfully installed lbry-libtorrent-1.2.4\n",
            "\u001b[33mWARNING: Running pip as root will break packages and permissions. You should install packages reliably by using venv: https://pip.pypa.io/warnings/venv\u001b[0m\n"
          ],
          "name": "stdout"
        }
      ]
    },
    {
      "cell_type": "markdown",
      "metadata": {
        "id": "NaFa7M-e9YOr"
      },
      "source": [
        "### Install libtorrent and Initialize Session"
      ]
    },
    {
      "cell_type": "code",
      "metadata": {
        "id": "m6hF0emftx4h",
        "colab": {
          "base_uri": "https://localhost:8080/"
        },
        "outputId": "41147572-f07e-459d-f655-15599be416ff"
      },
      "source": [
        "!apt install python-libtorrent\n",
        " \n",
        "import libtorrent as lt\n",
        " \n",
        "ses = lt.session()\n",
        "ses.listen_on(6881, 6891)\n",
        "downloads = []"
      ],
      "execution_count": 9,
      "outputs": [
        {
          "output_type": "stream",
          "text": [
            "Reading package lists... Done\n",
            "Building dependency tree       \n",
            "Reading state information... Done\n",
            "python-libtorrent is already the newest version (1.1.5-1build1).\n",
            "0 upgraded, 0 newly installed, 0 to remove and 39 not upgraded.\n"
          ],
          "name": "stdout"
        }
      ]
    },
    {
      "cell_type": "markdown",
      "metadata": {
        "id": "Uf90U73y9YOj"
      },
      "source": [
        "### Mount Google Drive\n",
        "To stream files we need to mount Google Drive."
      ]
    },
    {
      "cell_type": "code",
      "metadata": {
        "id": "oWM9l2fvtuvO",
        "colab": {
          "base_uri": "https://localhost:8080/"
        },
        "outputId": "9d7ad156-f446-4b2f-c919-301b28863c9d"
      },
      "source": [
        "from google.colab import drive\n",
        " \n",
        "drive.mount(\"/content/drive\")"
      ],
      "execution_count": 10,
      "outputs": [
        {
          "output_type": "stream",
          "text": [
            "Mounted at /content/drive\n"
          ],
          "name": "stdout"
        }
      ]
    },
    {
      "cell_type": "markdown",
      "metadata": {
        "id": "R_1XuuIf9YOn"
      },
      "source": [
        "### Add From Torrent File\n",
        "You can run this cell to add more files as many times as you want"
      ]
    },
    {
      "cell_type": "code",
      "metadata": {
        "id": "0et2A6N3udA0",
        "colab": {
          "resources": {
            "http://localhost:8080/nbextensions/google.colab/files.js": {
              "data": "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",
              "ok": true,
              "headers": [
                [
                  "content-type",
                  "application/javascript"
                ]
              ],
              "status": 200,
              "status_text": ""
            }
          },
          "base_uri": "https://localhost:8080/",
          "height": 144
        },
        "outputId": "db3fb115-fb04-4ca9-d1ba-08b5b4b4ad00"
      },
      "source": [
        "from google.colab import files\n",
        " \n",
        "source = files.upload()\n",
        "params = {\n",
        "    \"save_path\": \"/content/drive/My Drive/Torrent\",\n",
        "    \"ti\": lt.torrent_info(list(source.keys())[0]),\n",
        "}\n",
        "downloads.append(ses.add_torrent(params))"
      ],
      "execution_count": 11,
      "outputs": [
        {
          "output_type": "display_data",
          "data": {
            "text/html": [
              "\n",
              "     <input type=\"file\" id=\"files-6e07044d-ce53-4d6d-8f5a-ed9908333c9c\" name=\"files[]\" multiple disabled\n",
              "        style=\"border:none\" />\n",
              "     <output id=\"result-6e07044d-ce53-4d6d-8f5a-ed9908333c9c\">\n",
              "      Upload widget is only available when the cell has been executed in the\n",
              "      current browser session. Please rerun this cell to enable.\n",
              "      </output>\n",
              "      <script src=\"/nbextensions/google.colab/files.js\"></script> "
            ],
            "text/plain": [
              "<IPython.core.display.HTML object>"
            ]
          },
          "metadata": {
            "tags": []
          }
        },
        {
          "output_type": "stream",
          "text": [
            "Saving [Izayoi Seishin, Yamasaki Masato] Boshi Double Soukan [English] [Tadanohito + Sei-Jin] [decensored].torrent to [Izayoi Seishin, Yamasaki Masato] Boshi Double Soukan [English] [Tadanohito + Sei-Jin] [decensored].torrent\n"
          ],
          "name": "stdout"
        }
      ]
    },
    {
      "cell_type": "markdown",
      "metadata": {
        "id": "WD-6M6eZyzmj"
      },
      "source": [
        "### Add From Magnet Link\n",
        "You can run this cell to add more files as many times as you want"
      ]
    },
    {
      "cell_type": "code",
      "metadata": {
        "id": "Cwi1GMlxy3te",
        "colab": {
          "base_uri": "https://localhost:8080/"
        },
        "outputId": "d6bb5f5c-a4d4-463a-9e6c-4a6b6bc78dad"
      },
      "source": [
        "params = {\"save_path\": \"/content/drive/My Drive/Torrent\"}\n",
        " \n",
        "while True:\n",
        "    magnet_link = input(\"Enter Magnet Link Or Type Exit: \")\n",
        "    if magnet_link.lower() == \"exit\":\n",
        "        break\n",
        "    downloads.append(\n",
        "        lt.add_magnet_uri(ses, magnet_link, params)\n",
        "    )"
      ],
      "execution_count": 12,
      "outputs": [
        {
          "output_type": "stream",
          "text": [
            "Enter Magnet Link Or Type Exit: Exit\n"
          ],
          "name": "stdout"
        }
      ]
    },
    {
      "cell_type": "markdown",
      "metadata": {
        "id": "m-a1CUP39YOu"
      },
      "source": [
        "### Start Download\n",
        "Source: https://stackoverflow.com/a/5494823/7957705 and [#3 issue](https://github.com/FKLC/Torrent-To-Google-Drive-Downloader/issues/3) which refers to this [stackoverflow question](https://stackoverflow.com/a/6053350/7957705)"
      ]
    },
    {
      "cell_type": "code",
      "metadata": {
        "id": "DBNoYYoSuDBT",
        "colab": {
          "base_uri": "https://localhost:8080/",
          "height": 54,
          "referenced_widgets": [
            "110d6eb092434dfbbcaa4f7d44568a29",
            "4f496fe8852147daa858dcefd35f43b0",
            "5cfb1b2803fd4551879218058342f730"
          ]
        },
        "outputId": "1dc9a962-53ce-4c02-a465-eda4fcc647ea"
      },
      "source": [
        "import time\n",
        "from IPython.display import display\n",
        "import ipywidgets as widgets\n",
        " \n",
        "state_str = [\n",
        "    \"queued\",\n",
        "    \"checking\",\n",
        "    \"downloading metadata\",\n",
        "    \"downloading\",\n",
        "    \"finished\",\n",
        "    \"seeding\",\n",
        "    \"allocating\",\n",
        "    \"checking fastresume\",\n",
        "]\n",
        " \n",
        "layout = widgets.Layout(width=\"auto\")\n",
        "style = {\"description_width\": \"initial\"}\n",
        "download_bars = [\n",
        "    widgets.FloatSlider(\n",
        "        step=0.01, disabled=True, layout=layout, style=style\n",
        "    )\n",
        "    for _ in downloads\n",
        "]\n",
        "display(*download_bars)\n",
        " \n",
        "while downloads:\n",
        "    next_shift = 0\n",
        "    for index, download in enumerate(downloads[:]):\n",
        "        bar = download_bars[index + next_shift]\n",
        "        if not download.is_seed():\n",
        "            s = download.status()\n",
        " \n",
        "            bar.description = \" \".join(\n",
        "                [\n",
        "                    download.name(),\n",
        "                    str(s.download_rate / 1000),\n",
        "                    \"kB/s\",\n",
        "                    state_str[s.state],\n",
        "                ]\n",
        "            )\n",
        "            bar.value = s.progress * 100\n",
        "        else:\n",
        "            next_shift -= 1\n",
        "            ses.remove_torrent(download)\n",
        "            downloads.remove(download)\n",
        "            bar.close() # Seems to be not working in Colab (see https://github.com/googlecolab/colabtools/issues/726#issue-486731758)\n",
        "            download_bars.remove(bar)\n",
        "            print(download.name(), \"complete\")\n",
        "    time.sleep(1)"
      ],
      "execution_count": 13,
      "outputs": [
        {
          "output_type": "display_data",
          "data": {
            "application/vnd.jupyter.widget-view+json": {
              "model_id": "110d6eb092434dfbbcaa4f7d44568a29",
              "version_minor": 0,
              "version_major": 2
            },
            "text/plain": [
              "FloatSlider(value=0.0, disabled=True, layout=Layout(width='auto'), step=0.01, style=SliderStyle(description_wi…"
            ]
          },
          "metadata": {
            "tags": []
          }
        },
        {
          "output_type": "stream",
          "text": [
            "[Izayoi Seishin, Yamasaki Masato] Boshi Double Soukan [English] [Tadanohito Sei-Jin] [decensored] complete\n"
          ],
          "name": "stdout"
        }
      ]
    }
  ]
}